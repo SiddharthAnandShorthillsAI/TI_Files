{
 "cells": [
  {
   "cell_type": "code",
   "execution_count": null,
   "metadata": {},
   "outputs": [],
   "source": [
    "\n",
    "import pandas as pd\n",
    "df1 = pd.read_csv(\"data1.tsv\", sep=\"\\t\",header=None)\n",
    "df2 = pd.read_csv(\"data2.tsv\", sep=\"\\t\",header=None)\n",
    "df3 = pd.read_csv(\"data5.tsv\", sep=\"\\t\",header=None)\n",
    "\n",
    "\n",
    "\n",
    "\n",
    "\n"
   ]
  },
  {
   "cell_type": "code",
   "execution_count": 9,
   "metadata": {},
   "outputs": [
    {
     "data": {
      "text/plain": [
       "(257417, 6)"
      ]
     },
     "execution_count": 9,
     "metadata": {},
     "output_type": "execute_result"
    }
   ],
   "source": [
    "df1.shape"
   ]
  },
  {
   "cell_type": "code",
   "execution_count": 25,
   "metadata": {},
   "outputs": [
    {
     "data": {
      "text/plain": [
       "(266803, 6)"
      ]
     },
     "execution_count": 25,
     "metadata": {},
     "output_type": "execute_result"
    }
   ],
   "source": [
    "df2.shape"
   ]
  },
  {
   "cell_type": "code",
   "execution_count": 26,
   "metadata": {},
   "outputs": [
    {
     "data": {
      "text/plain": [
       "(227210, 6)"
      ]
     },
     "execution_count": 26,
     "metadata": {},
     "output_type": "execute_result"
    }
   ],
   "source": [
    "df3.shape"
   ]
  },
  {
   "cell_type": "code",
   "execution_count": 11,
   "metadata": {},
   "outputs": [
    {
     "data": {
      "text/html": [
       "<div>\n",
       "<style scoped>\n",
       "    .dataframe tbody tr th:only-of-type {\n",
       "        vertical-align: middle;\n",
       "    }\n",
       "\n",
       "    .dataframe tbody tr th {\n",
       "        vertical-align: top;\n",
       "    }\n",
       "\n",
       "    .dataframe thead th {\n",
       "        text-align: right;\n",
       "    }\n",
       "</style>\n",
       "<table border=\"1\" class=\"dataframe\">\n",
       "  <thead>\n",
       "    <tr style=\"text-align: right;\">\n",
       "      <th></th>\n",
       "      <th>0</th>\n",
       "      <th>1</th>\n",
       "      <th>2</th>\n",
       "      <th>3</th>\n",
       "      <th>4</th>\n",
       "      <th>5</th>\n",
       "    </tr>\n",
       "  </thead>\n",
       "  <tbody>\n",
       "    <tr>\n",
       "      <th>0</th>\n",
       "      <td>2025-01-20 01:22:23</td>\n",
       "      <td>100,137,139,150,151,154,155,157,158,159,160,16...</td>\n",
       "      <td>;;;;;107=::hash::0|108=::hash::0|109=::hash::0...</td>\n",
       "      <td>0.0</td>\n",
       "      <td>https://www.cycletrader.com/yamaha-vmax-1200/m...</td>\n",
       "      <td>0.0</td>\n",
       "    </tr>\n",
       "    <tr>\n",
       "      <th>1</th>\n",
       "      <td>2025-01-20 01:22:25</td>\n",
       "      <td>228,203,20113,212,100,110,111,112,127,130,131,...</td>\n",
       "      <td>2997188;5034370069;;;20113=1.00|212=1.00;107=5...</td>\n",
       "      <td>100.0</td>\n",
       "      <td>https://www.cycletrader.com/yamaha-vmax-1200/m...</td>\n",
       "      <td>0.0</td>\n",
       "    </tr>\n",
       "    <tr>\n",
       "      <th>2</th>\n",
       "      <td>2025-01-20 01:24:24</td>\n",
       "      <td>100,137,139,150,151,154,155,157,158,159,160,16...</td>\n",
       "      <td>;;;;;107=::hash::0|108=::hash::0|109=::hash::0...</td>\n",
       "      <td>0.0</td>\n",
       "      <td>https://www.cycletrader.com/yamaha-v-max/motor...</td>\n",
       "      <td>0.0</td>\n",
       "    </tr>\n",
       "    <tr>\n",
       "      <th>3</th>\n",
       "      <td>2025-01-20 01:24:25</td>\n",
       "      <td>228,203,20113,212,100,110,111,112,127,130,131,...</td>\n",
       "      <td>2889104;5033772862;;;20113=1.00|212=1.00;107=5...</td>\n",
       "      <td>100.0</td>\n",
       "      <td>https://www.cycletrader.com/yamaha-v-max/motor...</td>\n",
       "      <td>0.0</td>\n",
       "    </tr>\n",
       "    <tr>\n",
       "      <th>4</th>\n",
       "      <td>2025-01-20 01:24:59</td>\n",
       "      <td>20113,100,106,107,108,114,117,118,119,139,140,...</td>\n",
       "      <td>2889104;5034302300;;;20113=1.00;107=5034302300...</td>\n",
       "      <td>0.0</td>\n",
       "      <td>https://www.cycletrader.com/listing/2007-yamah...</td>\n",
       "      <td>0.0</td>\n",
       "    </tr>\n",
       "  </tbody>\n",
       "</table>\n",
       "</div>"
      ],
      "text/plain": [
       "                     0                                                  1  \\\n",
       "0  2025-01-20 01:22:23  100,137,139,150,151,154,155,157,158,159,160,16...   \n",
       "1  2025-01-20 01:22:25  228,203,20113,212,100,110,111,112,127,130,131,...   \n",
       "2  2025-01-20 01:24:24  100,137,139,150,151,154,155,157,158,159,160,16...   \n",
       "3  2025-01-20 01:24:25  228,203,20113,212,100,110,111,112,127,130,131,...   \n",
       "4  2025-01-20 01:24:59  20113,100,106,107,108,114,117,118,119,139,140,...   \n",
       "\n",
       "                                                   2      3  \\\n",
       "0  ;;;;;107=::hash::0|108=::hash::0|109=::hash::0...    0.0   \n",
       "1  2997188;5034370069;;;20113=1.00|212=1.00;107=5...  100.0   \n",
       "2  ;;;;;107=::hash::0|108=::hash::0|109=::hash::0...    0.0   \n",
       "3  2889104;5033772862;;;20113=1.00|212=1.00;107=5...  100.0   \n",
       "4  2889104;5034302300;;;20113=1.00;107=5034302300...    0.0   \n",
       "\n",
       "                                                   4    5  \n",
       "0  https://www.cycletrader.com/yamaha-vmax-1200/m...  0.0  \n",
       "1  https://www.cycletrader.com/yamaha-vmax-1200/m...  0.0  \n",
       "2  https://www.cycletrader.com/yamaha-v-max/motor...  0.0  \n",
       "3  https://www.cycletrader.com/yamaha-v-max/motor...  0.0  \n",
       "4  https://www.cycletrader.com/listing/2007-yamah...  0.0  "
      ]
     },
     "execution_count": 11,
     "metadata": {},
     "output_type": "execute_result"
    }
   ],
   "source": [
    "df1.head()"
   ]
  },
  {
   "cell_type": "code",
   "execution_count": 12,
   "metadata": {},
   "outputs": [
    {
     "data": {
      "text/html": [
       "<div>\n",
       "<style scoped>\n",
       "    .dataframe tbody tr th:only-of-type {\n",
       "        vertical-align: middle;\n",
       "    }\n",
       "\n",
       "    .dataframe tbody tr th {\n",
       "        vertical-align: top;\n",
       "    }\n",
       "\n",
       "    .dataframe thead th {\n",
       "        text-align: right;\n",
       "    }\n",
       "</style>\n",
       "<table border=\"1\" class=\"dataframe\">\n",
       "  <thead>\n",
       "    <tr style=\"text-align: right;\">\n",
       "      <th></th>\n",
       "      <th>0</th>\n",
       "      <th>1</th>\n",
       "      <th>2</th>\n",
       "      <th>3</th>\n",
       "      <th>4</th>\n",
       "      <th>5</th>\n",
       "    </tr>\n",
       "  </thead>\n",
       "  <tbody>\n",
       "    <tr>\n",
       "      <th>0</th>\n",
       "      <td>2025-01-20 04:59:16</td>\n",
       "      <td>100,137,139,150,151,154,155,157,158,159,160,16...</td>\n",
       "      <td>;;;;;107=::hash::0|108=::hash::0|109=::hash::0...</td>\n",
       "      <td>0.0</td>\n",
       "      <td>https://www.cycletrader.com/used/motorcycles-f...</td>\n",
       "      <td>0.0</td>\n",
       "    </tr>\n",
       "    <tr>\n",
       "      <th>1</th>\n",
       "      <td>2025-01-20 04:59:19</td>\n",
       "      <td>229,20113,220,217,100,110,111,112,127,130,131,...</td>\n",
       "      <td>5000014498;5034088003;;;20113=1.00|220=1.00;10...</td>\n",
       "      <td>100.0</td>\n",
       "      <td>https://www.cycletrader.com/used/motorcycles-f...</td>\n",
       "      <td>0.0</td>\n",
       "    </tr>\n",
       "    <tr>\n",
       "      <th>2</th>\n",
       "      <td>2025-01-20 04:59:19</td>\n",
       "      <td>228,203,20113,212,100,110,111,112,127,130,131,...</td>\n",
       "      <td>;5034746383;;;20113=1.00|212=1.00;107=50347463...</td>\n",
       "      <td>100.0</td>\n",
       "      <td>https://www.cycletrader.com/used/motorcycles-f...</td>\n",
       "      <td>0.0</td>\n",
       "    </tr>\n",
       "    <tr>\n",
       "      <th>3</th>\n",
       "      <td>2025-01-20 04:33:48</td>\n",
       "      <td>229,203,20113,212,100,110,111,112,127,130,131,...</td>\n",
       "      <td>5000000264;5033285546;;;20113=1.00|212=1.00;10...</td>\n",
       "      <td>100.0</td>\n",
       "      <td>https://www.rvtrader.com/airstream/rvs-for-sal...</td>\n",
       "      <td>0.0</td>\n",
       "    </tr>\n",
       "    <tr>\n",
       "      <th>4</th>\n",
       "      <td>2025-01-20 04:33:48</td>\n",
       "      <td>100,137,139,147,150,151,154,155,157,158,159,16...</td>\n",
       "      <td>;;;;;107=::hash::0|108=::hash::0|109=::hash::0...</td>\n",
       "      <td>0.0</td>\n",
       "      <td>https://www.rvtrader.com/airstream/rvs-for-sal...</td>\n",
       "      <td>0.0</td>\n",
       "    </tr>\n",
       "  </tbody>\n",
       "</table>\n",
       "</div>"
      ],
      "text/plain": [
       "                     0                                                  1  \\\n",
       "0  2025-01-20 04:59:16  100,137,139,150,151,154,155,157,158,159,160,16...   \n",
       "1  2025-01-20 04:59:19  229,20113,220,217,100,110,111,112,127,130,131,...   \n",
       "2  2025-01-20 04:59:19  228,203,20113,212,100,110,111,112,127,130,131,...   \n",
       "3  2025-01-20 04:33:48  229,203,20113,212,100,110,111,112,127,130,131,...   \n",
       "4  2025-01-20 04:33:48  100,137,139,147,150,151,154,155,157,158,159,16...   \n",
       "\n",
       "                                                   2      3  \\\n",
       "0  ;;;;;107=::hash::0|108=::hash::0|109=::hash::0...    0.0   \n",
       "1  5000014498;5034088003;;;20113=1.00|220=1.00;10...  100.0   \n",
       "2  ;5034746383;;;20113=1.00|212=1.00;107=50347463...  100.0   \n",
       "3  5000000264;5033285546;;;20113=1.00|212=1.00;10...  100.0   \n",
       "4  ;;;;;107=::hash::0|108=::hash::0|109=::hash::0...    0.0   \n",
       "\n",
       "                                                   4    5  \n",
       "0  https://www.cycletrader.com/used/motorcycles-f...  0.0  \n",
       "1  https://www.cycletrader.com/used/motorcycles-f...  0.0  \n",
       "2  https://www.cycletrader.com/used/motorcycles-f...  0.0  \n",
       "3  https://www.rvtrader.com/airstream/rvs-for-sal...  0.0  \n",
       "4  https://www.rvtrader.com/airstream/rvs-for-sal...  0.0  "
      ]
     },
     "execution_count": 12,
     "metadata": {},
     "output_type": "execute_result"
    }
   ],
   "source": [
    "df2.head()"
   ]
  },
  {
   "cell_type": "code",
   "execution_count": 13,
   "metadata": {},
   "outputs": [
    {
     "data": {
      "text/html": [
       "<div>\n",
       "<style scoped>\n",
       "    .dataframe tbody tr th:only-of-type {\n",
       "        vertical-align: middle;\n",
       "    }\n",
       "\n",
       "    .dataframe tbody tr th {\n",
       "        vertical-align: top;\n",
       "    }\n",
       "\n",
       "    .dataframe thead th {\n",
       "        text-align: right;\n",
       "    }\n",
       "</style>\n",
       "<table border=\"1\" class=\"dataframe\">\n",
       "  <thead>\n",
       "    <tr style=\"text-align: right;\">\n",
       "      <th></th>\n",
       "      <th>0</th>\n",
       "      <th>1</th>\n",
       "      <th>2</th>\n",
       "      <th>3</th>\n",
       "      <th>4</th>\n",
       "      <th>5</th>\n",
       "    </tr>\n",
       "  </thead>\n",
       "  <tbody>\n",
       "    <tr>\n",
       "      <th>0</th>\n",
       "      <td>2025-01-20 10:00:22</td>\n",
       "      <td>100,137,139,147,150,151,154,155,157,158,159,16...</td>\n",
       "      <td>;;;;;107=::hash::0|108=::hash::0|109=::hash::0...</td>\n",
       "      <td>0.0</td>\n",
       "      <td>https://www.rvtrader.com/salem-used-truck-camp...</td>\n",
       "      <td>0.0</td>\n",
       "    </tr>\n",
       "    <tr>\n",
       "      <th>1</th>\n",
       "      <td>2025-01-20 10:00:25</td>\n",
       "      <td>228,203,20113,212,100,110,111,112,127,130,131,...</td>\n",
       "      <td>5000012632;5034841305;;;20113=1.00|212=1.00;10...</td>\n",
       "      <td>100.0</td>\n",
       "      <td>https://www.rvtrader.com/salem-used-truck-camp...</td>\n",
       "      <td>0.0</td>\n",
       "    </tr>\n",
       "    <tr>\n",
       "      <th>2</th>\n",
       "      <td>2025-01-20 10:00:28</td>\n",
       "      <td>229,20113,220,217,100,110,111,112,127,130,131,...</td>\n",
       "      <td>;5034879770;;;20113=1.00|220=1.00;107=50348797...</td>\n",
       "      <td>100.0</td>\n",
       "      <td>https://www.rvtrader.com/salem-used-truck-camp...</td>\n",
       "      <td>0.0</td>\n",
       "    </tr>\n",
       "    <tr>\n",
       "      <th>3</th>\n",
       "      <td>2025-01-20 10:27:54</td>\n",
       "      <td>100,137,139,150,151,154,155,157,158,159,160,16...</td>\n",
       "      <td>;;;;;107=::hash::0|108=::hash::0|109=::hash::0...</td>\n",
       "      <td>0.0</td>\n",
       "      <td>https://www.pwctrader.com/2015-yamaha-waverunn...</td>\n",
       "      <td>0.0</td>\n",
       "    </tr>\n",
       "    <tr>\n",
       "      <th>4</th>\n",
       "      <td>2025-01-20 10:27:55</td>\n",
       "      <td>228,203,20113,212,100,110,111,112,127,128,130,...</td>\n",
       "      <td>3017346;5033909881;;;20113=1.00|212=1.00;107=5...</td>\n",
       "      <td>100.0</td>\n",
       "      <td>https://www.pwctrader.com/2015-yamaha-waverunn...</td>\n",
       "      <td>0.0</td>\n",
       "    </tr>\n",
       "  </tbody>\n",
       "</table>\n",
       "</div>"
      ],
      "text/plain": [
       "                     0                                                  1  \\\n",
       "0  2025-01-20 10:00:22  100,137,139,147,150,151,154,155,157,158,159,16...   \n",
       "1  2025-01-20 10:00:25  228,203,20113,212,100,110,111,112,127,130,131,...   \n",
       "2  2025-01-20 10:00:28  229,20113,220,217,100,110,111,112,127,130,131,...   \n",
       "3  2025-01-20 10:27:54  100,137,139,150,151,154,155,157,158,159,160,16...   \n",
       "4  2025-01-20 10:27:55  228,203,20113,212,100,110,111,112,127,128,130,...   \n",
       "\n",
       "                                                   2      3  \\\n",
       "0  ;;;;;107=::hash::0|108=::hash::0|109=::hash::0...    0.0   \n",
       "1  5000012632;5034841305;;;20113=1.00|212=1.00;10...  100.0   \n",
       "2  ;5034879770;;;20113=1.00|220=1.00;107=50348797...  100.0   \n",
       "3  ;;;;;107=::hash::0|108=::hash::0|109=::hash::0...    0.0   \n",
       "4  3017346;5033909881;;;20113=1.00|212=1.00;107=5...  100.0   \n",
       "\n",
       "                                                   4    5  \n",
       "0  https://www.rvtrader.com/salem-used-truck-camp...  0.0  \n",
       "1  https://www.rvtrader.com/salem-used-truck-camp...  0.0  \n",
       "2  https://www.rvtrader.com/salem-used-truck-camp...  0.0  \n",
       "3  https://www.pwctrader.com/2015-yamaha-waverunn...  0.0  \n",
       "4  https://www.pwctrader.com/2015-yamaha-waverunn...  0.0  "
      ]
     },
     "execution_count": 13,
     "metadata": {},
     "output_type": "execute_result"
    }
   ],
   "source": [
    "df3.head()"
   ]
  },
  {
   "cell_type": "code",
   "execution_count": 17,
   "metadata": {},
   "outputs": [],
   "source": [
    "df4 = pd.read_csv(\"data3.tsv\", sep=\"\\t\",header=None,on_bad_lines=\"skip\")\n"
   ]
  },
  {
   "cell_type": "code",
   "execution_count": 18,
   "metadata": {},
   "outputs": [
    {
     "data": {
      "text/html": [
       "<div>\n",
       "<style scoped>\n",
       "    .dataframe tbody tr th:only-of-type {\n",
       "        vertical-align: middle;\n",
       "    }\n",
       "\n",
       "    .dataframe tbody tr th {\n",
       "        vertical-align: top;\n",
       "    }\n",
       "\n",
       "    .dataframe thead th {\n",
       "        text-align: right;\n",
       "    }\n",
       "</style>\n",
       "<table border=\"1\" class=\"dataframe\">\n",
       "  <thead>\n",
       "    <tr style=\"text-align: right;\">\n",
       "      <th></th>\n",
       "      <th>0</th>\n",
       "      <th>1</th>\n",
       "      <th>2</th>\n",
       "      <th>3</th>\n",
       "      <th>4</th>\n",
       "      <th>5</th>\n",
       "    </tr>\n",
       "  </thead>\n",
       "  <tbody>\n",
       "    <tr>\n",
       "      <th>0</th>\n",
       "      <td>2025-01-20 06:07:48</td>\n",
       "      <td>228,203,20113,212,100,110,111,112,127,130,131,...</td>\n",
       "      <td>;5033990804;;;20113=1.00|212=1.00;107=50339908...</td>\n",
       "      <td>100.0</td>\n",
       "      <td>https://www.cycletrader.com/used-slingshot/mot...</td>\n",
       "      <td>0.0</td>\n",
       "    </tr>\n",
       "    <tr>\n",
       "      <th>1</th>\n",
       "      <td>2025-01-20 06:07:49</td>\n",
       "      <td>100,137,139,150,151,154,155,157,158,159,160,16...</td>\n",
       "      <td>;;;;;107=::hash::0|108=::hash::0|109=::hash::0...</td>\n",
       "      <td>0.0</td>\n",
       "      <td>https://www.cycletrader.com/used-slingshot/mot...</td>\n",
       "      <td>0.0</td>\n",
       "    </tr>\n",
       "    <tr>\n",
       "      <th>2</th>\n",
       "      <td>2025-01-20 06:08:03</td>\n",
       "      <td>20413,106,107,108,113,115,116,117,118,119,120,...</td>\n",
       "      <td>782392;5032333077;;;20413=1.00;107=5032333077|...</td>\n",
       "      <td>100.0</td>\n",
       "      <td>https://www.cycletrader.com/used-slingshot/mot...</td>\n",
       "      <td>0.0</td>\n",
       "    </tr>\n",
       "    <tr>\n",
       "      <th>3</th>\n",
       "      <td>2025-01-20 06:08:03</td>\n",
       "      <td>100,150,153,154,174,178,531,532,533,534</td>\n",
       "      <td>;;;;;107=::hash::0|108=::hash::0|109=::hash::0...</td>\n",
       "      <td>100.0</td>\n",
       "      <td>https://www.cycletrader.com/used-slingshot/mot...</td>\n",
       "      <td>0.0</td>\n",
       "    </tr>\n",
       "    <tr>\n",
       "      <th>4</th>\n",
       "      <td>2025-01-20 06:08:12</td>\n",
       "      <td>100,137,139,150,151,154,155,157,158,159,160,16...</td>\n",
       "      <td>;;;;;107=::hash::0|108=::hash::0|109=::hash::0...</td>\n",
       "      <td>0.0</td>\n",
       "      <td>https://www.cycletrader.com/used-slingshot/mot...</td>\n",
       "      <td>0.0</td>\n",
       "    </tr>\n",
       "  </tbody>\n",
       "</table>\n",
       "</div>"
      ],
      "text/plain": [
       "                     0                                                  1  \\\n",
       "0  2025-01-20 06:07:48  228,203,20113,212,100,110,111,112,127,130,131,...   \n",
       "1  2025-01-20 06:07:49  100,137,139,150,151,154,155,157,158,159,160,16...   \n",
       "2  2025-01-20 06:08:03  20413,106,107,108,113,115,116,117,118,119,120,...   \n",
       "3  2025-01-20 06:08:03            100,150,153,154,174,178,531,532,533,534   \n",
       "4  2025-01-20 06:08:12  100,137,139,150,151,154,155,157,158,159,160,16...   \n",
       "\n",
       "                                                   2      3  \\\n",
       "0  ;5033990804;;;20113=1.00|212=1.00;107=50339908...  100.0   \n",
       "1  ;;;;;107=::hash::0|108=::hash::0|109=::hash::0...    0.0   \n",
       "2  782392;5032333077;;;20413=1.00;107=5032333077|...  100.0   \n",
       "3  ;;;;;107=::hash::0|108=::hash::0|109=::hash::0...  100.0   \n",
       "4  ;;;;;107=::hash::0|108=::hash::0|109=::hash::0...    0.0   \n",
       "\n",
       "                                                   4    5  \n",
       "0  https://www.cycletrader.com/used-slingshot/mot...  0.0  \n",
       "1  https://www.cycletrader.com/used-slingshot/mot...  0.0  \n",
       "2  https://www.cycletrader.com/used-slingshot/mot...  0.0  \n",
       "3  https://www.cycletrader.com/used-slingshot/mot...  0.0  \n",
       "4  https://www.cycletrader.com/used-slingshot/mot...  0.0  "
      ]
     },
     "execution_count": 18,
     "metadata": {},
     "output_type": "execute_result"
    }
   ],
   "source": [
    "df4.head()"
   ]
  },
  {
   "cell_type": "code",
   "execution_count": 28,
   "metadata": {},
   "outputs": [
    {
     "data": {
      "text/plain": [
       "(242389, 6)"
      ]
     },
     "execution_count": 28,
     "metadata": {},
     "output_type": "execute_result"
    }
   ],
   "source": [
    "df4.shape"
   ]
  },
  {
   "cell_type": "code",
   "execution_count": 19,
   "metadata": {},
   "outputs": [],
   "source": [
    "df5 = pd.read_csv(\"data4.tsv\", sep=\"\\t\",header=None,on_bad_lines=\"skip\")\n"
   ]
  },
  {
   "cell_type": "code",
   "execution_count": 31,
   "metadata": {},
   "outputs": [
    {
     "data": {
      "text/html": [
       "<div>\n",
       "<style scoped>\n",
       "    .dataframe tbody tr th:only-of-type {\n",
       "        vertical-align: middle;\n",
       "    }\n",
       "\n",
       "    .dataframe tbody tr th {\n",
       "        vertical-align: top;\n",
       "    }\n",
       "\n",
       "    .dataframe thead th {\n",
       "        text-align: right;\n",
       "    }\n",
       "</style>\n",
       "<table border=\"1\" class=\"dataframe\">\n",
       "  <thead>\n",
       "    <tr style=\"text-align: right;\">\n",
       "      <th></th>\n",
       "      <th>0</th>\n",
       "      <th>1</th>\n",
       "      <th>2</th>\n",
       "      <th>3</th>\n",
       "      <th>4</th>\n",
       "      <th>5</th>\n",
       "    </tr>\n",
       "  </thead>\n",
       "  <tbody>\n",
       "    <tr>\n",
       "      <th>0</th>\n",
       "      <td>2025-01-20 08:36:19</td>\n",
       "      <td>100,139,150,151,154,155,157,158,159,160,161,16...</td>\n",
       "      <td>;;;;;107=::hash::0|108=::hash::0|109=::hash::0...</td>\n",
       "      <td>0.0</td>\n",
       "      <td>https://www.rvtrader.com/cruiser-corp-essence-...</td>\n",
       "      <td>0.0</td>\n",
       "    </tr>\n",
       "    <tr>\n",
       "      <th>1</th>\n",
       "      <td>2025-01-20 08:31:37</td>\n",
       "      <td>100,137,139,150,151,154,155,157,158,159,160,16...</td>\n",
       "      <td>;;;;;107=::hash::0|108=::hash::0|109=::hash::0...</td>\n",
       "      <td>0.0</td>\n",
       "      <td>https://www.cycletrader.com/2021-white-harley-...</td>\n",
       "      <td>0.0</td>\n",
       "    </tr>\n",
       "    <tr>\n",
       "      <th>2</th>\n",
       "      <td>2025-01-20 08:31:37</td>\n",
       "      <td>228,203,20113,212,100,110,111,112,127,128,130,...</td>\n",
       "      <td>782534;5031449513;;;20113=1.00|212=1.00;107=50...</td>\n",
       "      <td>100.0</td>\n",
       "      <td>https://www.cycletrader.com/2021-white-harley-...</td>\n",
       "      <td>0.0</td>\n",
       "    </tr>\n",
       "    <tr>\n",
       "      <th>3</th>\n",
       "      <td>2025-01-20 08:32:07</td>\n",
       "      <td>20104,100,106,107,108,114,117,118,119,139,140,...</td>\n",
       "      <td>2989646;5033507644;;;20104=1.00;107=5033507644...</td>\n",
       "      <td>0.0</td>\n",
       "      <td>https://www.cycletrader.com/listing/2021-harle...</td>\n",
       "      <td>0.0</td>\n",
       "    </tr>\n",
       "    <tr>\n",
       "      <th>4</th>\n",
       "      <td>2025-01-20 08:54:02</td>\n",
       "      <td>100,137,139,150,151,154,155,157,158,159,160,16...</td>\n",
       "      <td>;;;;;107=::hash::0|108=::hash::0|109=::hash::0...</td>\n",
       "      <td>0.0</td>\n",
       "      <td>https://www.cycletrader.com/harley-davidson-tr...</td>\n",
       "      <td>0.0</td>\n",
       "    </tr>\n",
       "  </tbody>\n",
       "</table>\n",
       "</div>"
      ],
      "text/plain": [
       "                     0                                                  1  \\\n",
       "0  2025-01-20 08:36:19  100,139,150,151,154,155,157,158,159,160,161,16...   \n",
       "1  2025-01-20 08:31:37  100,137,139,150,151,154,155,157,158,159,160,16...   \n",
       "2  2025-01-20 08:31:37  228,203,20113,212,100,110,111,112,127,128,130,...   \n",
       "3  2025-01-20 08:32:07  20104,100,106,107,108,114,117,118,119,139,140,...   \n",
       "4  2025-01-20 08:54:02  100,137,139,150,151,154,155,157,158,159,160,16...   \n",
       "\n",
       "                                                   2      3  \\\n",
       "0  ;;;;;107=::hash::0|108=::hash::0|109=::hash::0...    0.0   \n",
       "1  ;;;;;107=::hash::0|108=::hash::0|109=::hash::0...    0.0   \n",
       "2  782534;5031449513;;;20113=1.00|212=1.00;107=50...  100.0   \n",
       "3  2989646;5033507644;;;20104=1.00;107=5033507644...    0.0   \n",
       "4  ;;;;;107=::hash::0|108=::hash::0|109=::hash::0...    0.0   \n",
       "\n",
       "                                                   4    5  \n",
       "0  https://www.rvtrader.com/cruiser-corp-essence-...  0.0  \n",
       "1  https://www.cycletrader.com/2021-white-harley-...  0.0  \n",
       "2  https://www.cycletrader.com/2021-white-harley-...  0.0  \n",
       "3  https://www.cycletrader.com/listing/2021-harle...  0.0  \n",
       "4  https://www.cycletrader.com/harley-davidson-tr...  0.0  "
      ]
     },
     "execution_count": 31,
     "metadata": {},
     "output_type": "execute_result"
    }
   ],
   "source": [
    "df5.head()"
   ]
  },
  {
   "cell_type": "code",
   "execution_count": 30,
   "metadata": {},
   "outputs": [
    {
     "data": {
      "text/plain": [
       "(263780, 6)"
      ]
     },
     "execution_count": 30,
     "metadata": {},
     "output_type": "execute_result"
    }
   ],
   "source": [
    "df5.shape"
   ]
  },
  {
   "cell_type": "code",
   "execution_count": 22,
   "metadata": {},
   "outputs": [],
   "source": [
    "combined_df= pd.concat([df1,df2,df3,df4,df5], axis=0)"
   ]
  },
  {
   "cell_type": "code",
   "execution_count": 23,
   "metadata": {},
   "outputs": [
    {
     "data": {
      "text/plain": [
       "(1257599, 6)"
      ]
     },
     "execution_count": 23,
     "metadata": {},
     "output_type": "execute_result"
    }
   ],
   "source": [
    "combined_df.shape"
   ]
  }
 ],
 "metadata": {
  "kernelspec": {
   "display_name": "Python 3",
   "language": "python",
   "name": "python3"
  },
  "language_info": {
   "codemirror_mode": {
    "name": "ipython",
    "version": 3
   },
   "file_extension": ".py",
   "mimetype": "text/x-python",
   "name": "python",
   "nbconvert_exporter": "python",
   "pygments_lexer": "ipython3",
   "version": "3.10.12"
  }
 },
 "nbformat": 4,
 "nbformat_minor": 2
}
